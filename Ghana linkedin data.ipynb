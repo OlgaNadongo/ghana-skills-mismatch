{
 "cells": [
  {
   "cell_type": "code",
   "execution_count": 5,
   "id": "46f4d4ee",
   "metadata": {},
   "outputs": [],
   "source": [
    "#importing libraries\n",
    "import pandas as pd\n",
    "import seaborn as sns"
   ]
  },
  {
   "cell_type": "code",
   "execution_count": 6,
   "id": "fb4335fa",
   "metadata": {},
   "outputs": [],
   "source": [
    "#reading data\n",
    "linkedindata=pd.read_csv(\"Downloads/ghana_linkedin.csv\")"
   ]
  },
  {
   "cell_type": "code",
   "execution_count": 17,
   "id": "383ca9ab",
   "metadata": {},
   "outputs": [
    {
     "data": {
      "text/html": [
       "<div>\n",
       "<style scoped>\n",
       "    .dataframe tbody tr th:only-of-type {\n",
       "        vertical-align: middle;\n",
       "    }\n",
       "\n",
       "    .dataframe tbody tr th {\n",
       "        vertical-align: top;\n",
       "    }\n",
       "\n",
       "    .dataframe thead th {\n",
       "        text-align: right;\n",
       "    }\n",
       "</style>\n",
       "<table border=\"1\" class=\"dataframe\">\n",
       "  <thead>\n",
       "    <tr style=\"text-align: right;\">\n",
       "      <th></th>\n",
       "      <th>Title</th>\n",
       "      <th>URL</th>\n",
       "      <th>Company</th>\n",
       "      <th>Location</th>\n",
       "      <th>resultbenefits__text</th>\n",
       "      <th>Date</th>\n",
       "      <th>Seniority_level</th>\n",
       "      <th>Employement_type</th>\n",
       "      <th>Job_function</th>\n",
       "      <th>Industries</th>\n",
       "      <th>Job_description</th>\n",
       "    </tr>\n",
       "  </thead>\n",
       "  <tbody>\n",
       "    <tr>\n",
       "      <th>0</th>\n",
       "      <td>Montessori Teachers</td>\n",
       "      <td>https://gh.linkedin.com/jobs/view/montessori-t...</td>\n",
       "      <td>Little Explorers Montessori Plus</td>\n",
       "      <td>Accra, Greater Accra Region, Ghana</td>\n",
       "      <td>Be an early applicant</td>\n",
       "      <td>2022-10-29</td>\n",
       "      <td>Entry level</td>\n",
       "      <td>Full-time</td>\n",
       "      <td>Education and Training</td>\n",
       "      <td>Education Administration Programs</td>\n",
       "      <td>Little Explorers Montessori Plus is seeking to...</td>\n",
       "    </tr>\n",
       "    <tr>\n",
       "      <th>1</th>\n",
       "      <td>Teachers (14 Positions Available) At Westfield...</td>\n",
       "      <td>https://gh.linkedin.com/jobs/view/teachers-14-...</td>\n",
       "      <td>Westfield School</td>\n",
       "      <td>Ghana</td>\n",
       "      <td>Be an early applicant</td>\n",
       "      <td>2022-10-29</td>\n",
       "      <td>Entry level</td>\n",
       "      <td>Full-time</td>\n",
       "      <td>Education and Training</td>\n",
       "      <td>Primary and Secondary Education</td>\n",
       "      <td>Applications are invited for the below positio...</td>\n",
       "    </tr>\n",
       "    <tr>\n",
       "      <th>2</th>\n",
       "      <td>Teachers At Al-Rayaan International School</td>\n",
       "      <td>https://gh.linkedin.com/jobs/view/teachers-at-...</td>\n",
       "      <td>AL RAYAAN INVESTMENTS LTD.</td>\n",
       "      <td>Accra, Greater Accra Region, Ghana</td>\n",
       "      <td>Be an early applicant</td>\n",
       "      <td>2022-10-25</td>\n",
       "      <td>Entry level</td>\n",
       "      <td>Full-time</td>\n",
       "      <td>Education and Training</td>\n",
       "      <td>Investment Management</td>\n",
       "      <td>Al-Rayaan International School (ARIS) aims to ...</td>\n",
       "    </tr>\n",
       "    <tr>\n",
       "      <th>3</th>\n",
       "      <td>Montessori Teachers At Datus International School</td>\n",
       "      <td>https://gh.linkedin.com/jobs/view/montessori-t...</td>\n",
       "      <td>DATUS AG</td>\n",
       "      <td>Accra, Greater Accra Region, Ghana</td>\n",
       "      <td>Be an early applicant</td>\n",
       "      <td>2022-10-29</td>\n",
       "      <td>Entry level</td>\n",
       "      <td>Full-time</td>\n",
       "      <td>Education and Training</td>\n",
       "      <td>Telecommunications</td>\n",
       "      <td>Datus International School requires Montessori...</td>\n",
       "    </tr>\n",
       "    <tr>\n",
       "      <th>4</th>\n",
       "      <td>Teachers At Kay-Billie-Klaer Academy</td>\n",
       "      <td>https://gh.linkedin.com/jobs/view/teachers-at-...</td>\n",
       "      <td>Klaer Inc</td>\n",
       "      <td>Ghana</td>\n",
       "      <td>Be an early applicant</td>\n",
       "      <td>2022-10-29</td>\n",
       "      <td>Entry level</td>\n",
       "      <td>Full-time</td>\n",
       "      <td>Education and Training</td>\n",
       "      <td>Retail Apparel and Fashion</td>\n",
       "      <td>Kay-Billie-Klaer Academy require Teachers for ...</td>\n",
       "    </tr>\n",
       "  </tbody>\n",
       "</table>\n",
       "</div>"
      ],
      "text/plain": [
       "                                               Title  \\\n",
       "0                                Montessori Teachers   \n",
       "1  Teachers (14 Positions Available) At Westfield...   \n",
       "2         Teachers At Al-Rayaan International School   \n",
       "3  Montessori Teachers At Datus International School   \n",
       "4               Teachers At Kay-Billie-Klaer Academy   \n",
       "\n",
       "                                                 URL  \\\n",
       "0  https://gh.linkedin.com/jobs/view/montessori-t...   \n",
       "1  https://gh.linkedin.com/jobs/view/teachers-14-...   \n",
       "2  https://gh.linkedin.com/jobs/view/teachers-at-...   \n",
       "3  https://gh.linkedin.com/jobs/view/montessori-t...   \n",
       "4  https://gh.linkedin.com/jobs/view/teachers-at-...   \n",
       "\n",
       "                            Company                            Location  \\\n",
       "0  Little Explorers Montessori Plus  Accra, Greater Accra Region, Ghana   \n",
       "1                  Westfield School                               Ghana   \n",
       "2        AL RAYAAN INVESTMENTS LTD.  Accra, Greater Accra Region, Ghana   \n",
       "3                          DATUS AG  Accra, Greater Accra Region, Ghana   \n",
       "4                         Klaer Inc                               Ghana   \n",
       "\n",
       "    resultbenefits__text        Date Seniority_level Employement_type  \\\n",
       "0  Be an early applicant  2022-10-29     Entry level        Full-time   \n",
       "1  Be an early applicant  2022-10-29     Entry level        Full-time   \n",
       "2  Be an early applicant  2022-10-25     Entry level        Full-time   \n",
       "3  Be an early applicant  2022-10-29     Entry level        Full-time   \n",
       "4  Be an early applicant  2022-10-29     Entry level        Full-time   \n",
       "\n",
       "             Job_function                         Industries  \\\n",
       "0  Education and Training  Education Administration Programs   \n",
       "1  Education and Training    Primary and Secondary Education   \n",
       "2  Education and Training              Investment Management   \n",
       "3  Education and Training                 Telecommunications   \n",
       "4  Education and Training         Retail Apparel and Fashion   \n",
       "\n",
       "                                     Job_description  \n",
       "0  Little Explorers Montessori Plus is seeking to...  \n",
       "1  Applications are invited for the below positio...  \n",
       "2  Al-Rayaan International School (ARIS) aims to ...  \n",
       "3  Datus International School requires Montessori...  \n",
       "4  Kay-Billie-Klaer Academy require Teachers for ...  "
      ]
     },
     "execution_count": 17,
     "metadata": {},
     "output_type": "execute_result"
    }
   ],
   "source": [
    "linkedindata.head()\n",
    "# type(linkedindata.Date[0])"
   ]
  },
  {
   "cell_type": "code",
   "execution_count": 26,
   "id": "5ecf4b0b",
   "metadata": {},
   "outputs": [
    {
     "data": {
      "text/plain": [
       "1954"
      ]
     },
     "execution_count": 26,
     "metadata": {},
     "output_type": "execute_result"
    }
   ],
   "source": [
    "#number of rows in original data\n",
    "len(linkedindata)"
   ]
  },
  {
   "cell_type": "code",
   "execution_count": 18,
   "id": "eef12eeb",
   "metadata": {},
   "outputs": [
    {
     "data": {
      "text/plain": [
       "Index(['Title', 'URL', 'Company', 'Location', 'resultbenefits__text', 'Date',\n",
       "       'Seniority_level', 'Employement_type', 'Job_function', 'Industries',\n",
       "       'Job_description'],\n",
       "      dtype='object')"
      ]
     },
     "execution_count": 18,
     "metadata": {},
     "output_type": "execute_result"
    }
   ],
   "source": [
    "#number of columns\n",
    "linkedindata.columns\n",
    "\n"
   ]
  },
  {
   "cell_type": "code",
   "execution_count": 19,
   "id": "13d278d1",
   "metadata": {},
   "outputs": [
    {
     "data": {
      "text/plain": [
       "Index(['Title', 'Company', 'Location', 'Date', 'Seniority_level',\n",
       "       'Employement_type', 'Job_function', 'Industries', 'Job_description'],\n",
       "      dtype='object')"
      ]
     },
     "execution_count": 19,
     "metadata": {},
     "output_type": "execute_result"
    }
   ],
   "source": [
    "#Dropping resultbenefits__text and URL columns\n",
    "linkedindata1=linkedindata.drop(['resultbenefits__text', 'URL'], axis= 1)\n",
    "linkedindata1.columns"
   ]
  },
  {
   "cell_type": "code",
   "execution_count": 22,
   "id": "b7ed74a4",
   "metadata": {},
   "outputs": [],
   "source": [
    "#handling/dropping missing values\n",
    "# linkedindata2=linkedindata1.fillna(0)\n",
    "linkedindata2=linkedindata1.dropna()"
   ]
  },
  {
   "cell_type": "code",
   "execution_count": 27,
   "id": "491f1f65",
   "metadata": {},
   "outputs": [
    {
     "data": {
      "text/plain": [
       "1938"
      ]
     },
     "execution_count": 27,
     "metadata": {},
     "output_type": "execute_result"
    }
   ],
   "source": [
    "# number of remaining rows\n",
    "len(linkedindata2)"
   ]
  },
  {
   "cell_type": "code",
   "execution_count": 31,
   "id": "3966f0d9",
   "metadata": {},
   "outputs": [],
   "source": [
    "#removing duplicates\n",
    "linkedindata3=linkedindata2.drop_duplicates()\n"
   ]
  },
  {
   "cell_type": "code",
   "execution_count": 32,
   "id": "3ccf9f88",
   "metadata": {},
   "outputs": [
    {
     "data": {
      "text/plain": [
       "1725"
      ]
     },
     "execution_count": 32,
     "metadata": {},
     "output_type": "execute_result"
    }
   ],
   "source": [
    "#available data after removing duplicates\n",
    "len(linkedindata3)"
   ]
  },
  {
   "cell_type": "code",
   "execution_count": null,
   "id": "5d666f62",
   "metadata": {},
   "outputs": [],
   "source": []
  }
 ],
 "metadata": {
  "kernelspec": {
   "display_name": "Python 3 (ipykernel)",
   "language": "python",
   "name": "python3"
  },
  "language_info": {
   "codemirror_mode": {
    "name": "ipython",
    "version": 3
   },
   "file_extension": ".py",
   "mimetype": "text/x-python",
   "name": "python",
   "nbconvert_exporter": "python",
   "pygments_lexer": "ipython3",
   "version": "3.9.13"
  }
 },
 "nbformat": 4,
 "nbformat_minor": 5
}
